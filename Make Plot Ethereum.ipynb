{
 "cells": [
  {
   "cell_type": "markdown",
   "metadata": {},
   "source": [
    "# Ethereum"
   ]
  },
  {
   "cell_type": "code",
   "execution_count": 1,
   "metadata": {},
   "outputs": [],
   "source": [
    "#Import relevant packages\n",
    "import matplotlib.pyplot as plt\n",
    "import math\n",
    "import numpy as np\n",
    "plt.style.use('classic')\n",
    "%matplotlib inline"
   ]
  },
  {
   "cell_type": "code",
   "execution_count": 2,
   "metadata": {},
   "outputs": [],
   "source": [
    "#Set parameters\n",
    "nodes=[2721080]#note that this is the total number of addresses in the ieee dataset\n",
    "nodes1=[2291941] #this is the number of nodes in the mfg graph\n",
    "marker_colors=['r', 'b', 'g','y', 'm','c','k','plum']\n",
    "markers=['s','D','8','v','*','^','<','+']\n"
   ]
  },
  {
   "cell_type": "code",
   "execution_count": 5,
   "metadata": {},
   "outputs": [
    {
     "name": "stdout",
     "output_type": "stream",
     "text": [
      "[(1.0, 0.9998992120652319), (0.99, 0.9898441102977781), (0.98, 0.9871555157833468), (0.97, 0.9847143970983546), (0.96, 0.9823142916855189), (0.95, 0.9798686353619049), (0.94, 0.9773137702933892), (0.93, 0.9746956400710141), (0.92, 0.9719868879696293), (0.91, 0.9691834562931594), (0.9, 0.9662952493105189), (0.89, 0.9632885401500301), (0.88, 0.960197448363636), (0.87, 0.9569734997541386), (0.86, 0.9536712768784187), (0.85, 0.9502542604718011), (0.84, 0.9467268136483443), (0.83, 0.9430748871807783), (0.82, 0.9393237434995055), (0.81, 0.9354512179851051), (0.8, 0.931463462628401), (0.79, 0.9273570742004267), (0.78, 0.9231408661915819), (0.77, 0.9187904487942753), (0.76, 0.9142959613707334), (0.75, 0.90968716035884), (0.74, 0.9049369071891467), (0.73, 0.9000767471763019), (0.72, 0.8950861736842265), (0.71, 0.8899679354747789), (0.7, 0.8846874330534686), (0.69, 0.8792810111604094), (0.68, 0.8737080928348506), (0.67, 0.8679919334747274), (0.66, 0.8621369398252396), (0.65, 0.8561035820730115), (0.64, 0.8499284667449993), (0.63, 0.8435861568862374), (0.62, 0.8370589818847867), (0.61, 0.8303688445732241), (0.6, 0.8235110764195066), (0.59, 0.8164688794345055), (0.58, 0.8091994514693005), (0.57, 0.8017675847676707), (0.56, 0.7941447009325283), (0.55, 0.7863057556891734), (0.54, 0.7782641001666274), (0.53, 0.7699778048387809), (0.52, 0.7614556395648927), (0.51, 0.7527041053849117), (0.5, 0.7437156104803745), (0.49, 0.7344861407863467), (0.48, 0.7249834092587897), (0.47, 0.7151915341625287), (0.46, 0.705140577353431), (0.45, 0.694771375004854), (0.44, 0.6841127236695884), (0.43, 0.6731495706041298), (0.42, 0.6618384155613082), (0.41, 0.6501710995178323), (0.4, 0.6381312171648398), (0.39, 0.6257285418778232), (0.38, 0.6129188316802222), (0.37, 0.5997206298067883), (0.36, 0.58610509607359), (0.35, 0.5720424304116031), (0.34, 0.5576061512927253), (0.33, 0.542688577061975), (0.32, 0.5273160172971293), (0.31, 0.5114956711363863), (0.3, 0.49527610003922445), (0.29, 0.4786265440515266), (0.28, 0.4615566456553637), (0.27, 0.44418006397197835), (0.26, 0.4264815630070757), (0.25, 0.4084436597626204), (0.24, 0.3901379703927806), (0.23, 0.37175245785122735), (0.22, 0.3531224582133659), (0.21, 0.33442470814039277), (0.2, 0.31565661157944297), (0.19, 0.2969772127642029), (0.18, 0.27839480597449934), (0.17, 0.25997606831938513), (0.16, 0.24164030400433517), (0.15, 0.22356327235299692), (0.14, 0.20566868431604482), (0.13, 0.18808154747438965), (0.12, 0.17083943260319526), (0.11, 0.1538784986175473), (0.1, 0.13735475738686115), (0.09, 0.12117545783246601), (0.08, 0.1054469683120115), (0.07, 0.09012283911322327), (0.06, 0.07524202848153597), (0.05, 0.06090389325030619), (0.04, 0.04702931270918405), (0.03, 0.033765681577318095), (0.02, 0.020973057334372918), (0.01, 0.007857108887183396), (0.0, 4.3631140592188036e-07)]\n"
     ]
    },
    {
     "data": {
      "text/plain": [
       "<Figure size 432x288 with 0 Axes>"
      ]
     },
     "metadata": {},
     "output_type": "display_data"
    },
    {
     "data": {
      "image/png": "[encoded data removed]",
      "text/plain": [
       "<Figure size 432x288 with 2 Axes>"
      ]
     },
     "metadata": {
      "needs_background": "light"
     },
     "output_type": "display_data"
    }
   ],
   "source": [
    "# read in and plot from the files\n",
    "plt.clf()\n",
    "plt.rcParams['xtick.major.pad'] = 8\n",
    "plt.rcParams['ytick.major.pad'] = 8\n",
    "runs=100\n",
    "fig, ax1 = plt.subplots(figsize=(6,4))\n",
    "ax2 = ax1.twinx()\n",
    "#ax2.set_yscale(\"log\", nonposy='clip')\n",
    "\n",
    "for x in range(len(nodes)):\n",
    "    gcc_run=[]\n",
    "    sgcc_run=[]\n",
    "    p_run=[]\n",
    "    for r in range(0,runs):\n",
    "        filestring=\"ethereum/results/ieee-infocom2018/S_vals_ethereum_100comp_\"+str(nodes[x])+\"_random_linkperc__\"\n",
    "        filestring+=str(r)+\".txt\"\n",
    "        filename=open(filestring)\n",
    "        p_vals=[]\n",
    "        gcc=[]\n",
    "        sgcc=[]\n",
    "        for line in filename.readlines():\n",
    "            if len(line.split())>1:\n",
    "                p,g,sg=line.split()[0:3]\n",
    "                g=(float(g))/(nodes1[x])\n",
    "                sg=float(sg)/nodes1[x]\n",
    "                p_vals.append(abs(float(p)))\n",
    "                gcc.append(g)\n",
    "                sgcc.append(sg)\n",
    "        #if k_inter_vals[x]==0:\n",
    "        #    gcc=[modules[x]*ll for ll in gcc]\n",
    "        p_run=p_vals\n",
    "        gcc_run.append(gcc)\n",
    "        sgcc_run.append(sgcc)\n",
    "        \n",
    "        '''plt.clf()\n",
    "        plt.plot(p_run[::1], gcc[::1], marker=markers[x], linestyle='-', color=marker_colors[r % 8], label=(\"\" ))\n",
    "        plt.xlabel(r\"$p$\", fontsize=36)\n",
    "        plt.xticks([x/5. for x in range(0,6)])\n",
    "        xx,locs=plt.xticks()\n",
    "        ll=xx\n",
    "        plt.xticks(xx,ll, fontsize=20)\n",
    "        plt.yticks(fontsize=20)\n",
    "        #plt.axis([0.,1.0,0,0.2])\n",
    "        plt.ylabel(r\"$P_\\infty$\", fontsize=36)\n",
    "        plt.legend( loc=\"best\", borderpad=0.3,numpoints=1, handletextpad=0, prop={'size':20})\n",
    "        plt.tight_layout()\n",
    "        #plt.show()\n",
    "        filestring=\"plot_ieee_ethereum%d.pdf\" % r\n",
    "        #plt.savefig(filestring)'''\n",
    "\n",
    "    gcc_avg=[np.mean([gcc_run[rr][gg] for rr in range(len(gcc_run))]) for gg in range(len(gcc_run[0]))]\n",
    "    gcc_std=[np.std([gcc_run[rr][gg] for rr in range(len(gcc_run))]) for gg in range(len(gcc_run[0]))]\n",
    "\n",
    "    sgcc_avg=[np.mean([sgcc_run[rr][gg] for rr in range(len(sgcc_run))]) for gg in range(len(sgcc_run[0]))]\n",
    "    sgcc_std=[np.std([sgcc_run[rr][gg] for rr in range(len(sgcc_run))]) for gg in range(len(sgcc_run[0]))]\n",
    "    sgcc_25=[abs(np.percentile([sgcc_run[rr][gg] for rr in range(len(sgcc_run))],25)-sgcc_avg[gg]) for gg in range(len(sgcc_run[0]))]\n",
    "    sgcc_75=[abs(np.percentile([sgcc_run[rr][gg] for rr in range(len(sgcc_run))],75)-sgcc_avg[gg]) for gg in range(len(sgcc_run[0]))]\n",
    "    #print(gcc_std)\n",
    "    #print len(p_run), len(gcc_avg)\n",
    "    #plt.plot(p_run[::2], gcc_avg[::2], marker=markers[x], linestyle='None', color=marker_colors[x], label=(r\"$z=$%s\" % (networks[x]-1) ))\n",
    "    ax1.plot(p_run[::3], gcc_avg[::3],  lw=4, linestyle='-', markersize=8, color=marker_colors[x], label=(\"\" ), marker=markers[x] )\n",
    "    print(list(zip(p_run, gcc_avg)))\n",
    "    errvals=[sgcc_25 [::3] , sgcc_75[::3]]\n",
    "    ax2.errorbar(p_run[::3], sgcc_avg[::3],  lw=2, yerr=errvals,  elinewidth=1, linestyle='-', color=marker_colors[x+1], label=(\"\"), marker=markers[x+1] )\n"
   ]
  },
  {
   "cell_type": "code",
   "execution_count": 4,
   "metadata": {},
   "outputs": [
    {
     "name": "stderr",
     "output_type": "stream",
     "text": [
      "/opt/anaconda3/lib/python3.7/site-packages/ipykernel_launcher.py:35: UserWarning: Matplotlib is currently using module://ipykernel.pylab.backend_inline, which is a non-GUI backend, so cannot show the figure.\n"
     ]
    }
   ],
   "source": [
    "ax1.set_xlabel(r\"$p$\", fontsize=36)\n",
    "xx=[x/2. for x in range(0,3)]\n",
    "ax1.set_xticks(xx)\n",
    "ax1.set_xticklabels(xx, fontdict={'fontsize': 30})\n",
    "yticks1=ax1.get_yticklabels()\n",
    "#ax1.tick_params(axis='y',labelsize=30)\n",
    "#plt.axis([0.,1.0,0,0.2])\n",
    "ax1.set_yticks([0,1])\n",
    "ax1.set_yticklabels([0,1], fontdict={'fontsize': 30})\n",
    "ax1.set_ylabel(r\"$S$\", fontsize=48)\n",
    "\n",
    "#ax2.tick_params(axis='y',labelsize=30)\n",
    "ax2.set_yticks([0,0.002])\n",
    "ax2.set_yticklabels([0,.002], fontdict={'fontsize': 24})\n",
    "ax2.yaxis.set_label_coords(1.03,0.5)\n",
    "ax2.set_ylabel(r\"$SG (10^{-3})$\", fontsize=48)\n",
    "ax2.set_ylim(0,0.0020)\n",
    "                \n",
    "#ax1.legend( loc=\"best\", borderpad=0.3,numpoints=1, handletextpad=0, prop={'size':30})\n",
    "\n",
    "ax1.spines['left'].set_color('red')\n",
    "ax1.yaxis.label.set_color('red')\n",
    "ax1.tick_params(axis='y', colors='red')\n",
    "\n",
    "ax2.spines['right'].set_color('blue')\n",
    "ax2.yaxis.label.set_color('blue')\n",
    "ax2.tick_params(axis='y', colors='blue')\n",
    "#ax1.text(0.4,0.3, \"Blockchain\\nTransaction\\nNetwork\", fontsize=18, fontweight='bold')\n",
    "\n",
    "ax2.set_ylabel(r\"$SG$\", labelpad=-50, fontsize=48)\n",
    "fig.tight_layout()\n",
    "\n",
    "#plt.show()\n",
    "filestring=\"plot_ieee_ethereum_link_colored_%drun.pdf\" %runs\n",
    "fig.show()"
   ]
  },
  {
   "cell_type": "code",
   "execution_count": 5,
   "metadata": {},
   "outputs": [],
   "source": [
    "#save the plot\n",
    "fig.savefig(filestring)\n"
   ]
  },
  {
   "cell_type": "markdown",
   "metadata": {
    "collapsed": true
   },
   "source": [
    "# Matjaz"
   ]
  },
  {
   "cell_type": "code",
   "execution_count": 6,
   "metadata": {},
   "outputs": [],
   "source": [
    "#Set parameters\n",
    "nodes=[309]#note that this is the total number of addresses in the ieee dataset\n",
    "nodes1=[309] #this is the number of nodes in the mfg graph\n",
    "marker_colors=['r', 'b', 'g','y', 'm','c','k','plum']\n",
    "markers=['s','D','8','v','*','^','<','+']\n"
   ]
  },
  {
   "cell_type": "code",
   "execution_count": 7,
   "metadata": {},
   "outputs": [
    {
     "data": {
      "text/plain": [
       "<Figure size 432x288 with 0 Axes>"
      ]
     },
     "metadata": {},
     "output_type": "display_data"
    },
    {
     "data": {
      "image/png": "[encoded data removed]",
      "text/plain": [
       "<Figure size 432x288 with 2 Axes>"
      ]
     },
     "metadata": {
      "needs_background": "light"
     },
     "output_type": "display_data"
    }
   ],
   "source": [
    "# read in and plot from the files\n",
    "plt.clf()\n",
    "plt.rcParams['xtick.major.pad'] = 8\n",
    "plt.rcParams['ytick.major.pad'] = 8\n",
    "runs=100\n",
    "fig, ax1 = plt.subplots(figsize=(6,4))\n",
    "ax2 = ax1.twinx()\n",
    "#ax2.set_yscale(\"log\", nonposy='clip')\n",
    "\n",
    "for x in range(len(nodes)):\n",
    "    gcc_run=[]\n",
    "    sgcc_run=[]\n",
    "    p_run=[]\n",
    "    for r in range(0,runs):\n",
    "        filestring=\"da-cunha-matjaz/S_vals_ethereum_100comp_\"+str(nodes[x])+\"_matjaz_linkperc_no_count_exchange__\"\n",
    "        filestring+=str(r)+\".txt\"\n",
    "        filename=open(filestring)\n",
    "        p_vals=[]\n",
    "        gcc=[]\n",
    "        sgcc=[]\n",
    "        for line in filename.readlines():\n",
    "            if len(line.split())>1:\n",
    "                p,g,sg=line.split()[0:3]\n",
    "                g=(float(g))/(nodes1[x])\n",
    "                sg=float(sg)/nodes1[x]\n",
    "                p_vals.append(abs(float(p)))\n",
    "                gcc.append(g)\n",
    "                sgcc.append(sg)\n",
    "        #if k_inter_vals[x]==0:\n",
    "        #    gcc=[modules[x]*ll for ll in gcc]\n",
    "        p_run=p_vals\n",
    "        gcc_run.append(gcc)\n",
    "        sgcc_run.append(sgcc)\n",
    "        \n",
    "        '''plt.clf()\n",
    "        plt.plot(p_run[::1], gcc[::1], marker=markers[x], linestyle='-', color=marker_colors[r % 8], label=(\"\" ))\n",
    "        plt.xlabel(r\"$p$\", fontsize=36)\n",
    "        plt.xticks([x/5. for x in range(0,6)])\n",
    "        xx,locs=plt.xticks()\n",
    "        ll=xx\n",
    "        plt.xticks(xx,ll, fontsize=20)\n",
    "        plt.yticks(fontsize=20)\n",
    "        #plt.axis([0.,1.0,0,0.2])\n",
    "        plt.ylabel(r\"$P_\\infty$\", fontsize=36)\n",
    "        plt.legend( loc=\"best\", borderpad=0.3,numpoints=1, handletextpad=0, prop={'size':20})\n",
    "        plt.tight_layout()\n",
    "        #plt.show()\n",
    "        filestring=\"plot_ieee_ethereum%d.pdf\" % r\n",
    "        #plt.savefig(filestring)'''\n",
    "\n",
    "    gcc_avg=[np.mean([gcc_run[rr][gg] for rr in range(len(gcc_run))]) for gg in range(len(gcc_run[0]))]\n",
    "    gcc_std=[np.std([gcc_run[rr][gg] for rr in range(len(gcc_run))]) for gg in range(len(gcc_run[0]))]\n",
    "\n",
    "    sgcc_avg=[np.mean([sgcc_run[rr][gg] for rr in range(len(sgcc_run))]) for gg in range(len(sgcc_run[0]))]\n",
    "    sgcc_std=[np.std([sgcc_run[rr][gg] for rr in range(len(sgcc_run))]) for gg in range(len(sgcc_run[0]))]\n",
    "    sgcc_25=[abs(np.percentile([sgcc_run[rr][gg] for rr in range(len(sgcc_run))],25)-sgcc_avg[gg]) for gg in range(len(sgcc_run[0]))]\n",
    "    sgcc_75=[abs(np.percentile([sgcc_run[rr][gg] for rr in range(len(sgcc_run))],75)-sgcc_avg[gg]) for gg in range(len(sgcc_run[0]))]\n",
    "    #print(gcc_std)\n",
    "    #print len(p_run), len(gcc_avg)\n",
    "    #plt.plot(p_run[::2], gcc_avg[::2], marker=markers[x], linestyle='None', color=marker_colors[x], label=(r\"$z=$%s\" % (networks[x]-1) ))\n",
    "    ax1.plot(p_run[::3], gcc_avg[::3],  lw=4, linestyle='-', markersize=8, color=marker_colors[x], label=(\"\" ), marker=markers[x] )\n",
    "    errvals=[sgcc_25 [::3] , sgcc_75[::3]]\n",
    "    ax2.errorbar(p_run[::3], sgcc_avg[::3],  lw=2, yerr=errvals,  elinewidth=1, linestyle='-', color=marker_colors[x+1], label=(\"\"), marker=markers[x+1] )\n"
   ]
  },
  {
   "cell_type": "code",
   "execution_count": 8,
   "metadata": {},
   "outputs": [],
   "source": [
    "ax1.set_xlabel(r\"$p$\", fontsize=36)\n",
    "xx=[x/2. for x in range(0,3)]\n",
    "ax1.set_xticks(xx)\n",
    "ax1.set_xticklabels(xx, fontdict={'fontsize': 30})\n",
    "yticks1=ax1.get_yticklabels()\n",
    "#ax1.tick_params(axis='y',labelsize=30)\n",
    "#plt.axis([0.,1.0,0,0.2])\n",
    "ax1.set_yticks([0, 1])\n",
    "ax1.set_yticklabels([0, 1], fontdict={'fontsize': 30})\n",
    "ax1.set_ylabel(r\"$S$\", fontsize=48)\n",
    "\n",
    "#ax2.tick_params(axis='y',labelsize=30)\n",
    "ax2.set_yticks([0,0.07])\n",
    "ax2.set_yticklabels([0,0.07], fontdict={'fontsize': 24})\n",
    "ax2.set_ylabel(r\"$SG$\", fontsize=48)\n",
    "ax2.set_ylim(0,0.07)\n",
    "ax2.yaxis.set_label_coords(1.03,0.5)\n",
    "\n",
    "#ax1.text(0.25,0.55, \"Conspiracy Network\", fontsize=18, fontweight='bold')\n",
    "#ax1.legend( loc=\"best\", borderpad=0.3,numpoints=1, handletextpad=0, prop={'size':30})\n",
    "\n",
    "ax1.spines['left'].set_color('red')\n",
    "ax1.yaxis.label.set_color('red')\n",
    "ax1.tick_params(axis='y', colors='red')\n",
    "\n",
    "ax2.spines['right'].set_color('blue')\n",
    "ax2.yaxis.label.set_color('blue')\n",
    "ax2.tick_params(axis='y', colors='blue')\n",
    "\n",
    "ax2.set_ylabel(r\"$SG$\", labelpad=-50, fontsize=48)\n",
    "fig.tight_layout()\n",
    "\n",
    "#plt.show()\n",
    "filestring=\"plot_matjaz_link_colored_%drun.pdf\" %runs\n",
    "#fig.show()"
   ]
  },
  {
   "cell_type": "code",
   "execution_count": 9,
   "metadata": {},
   "outputs": [],
   "source": [
    "#save the plot\n",
    "fig.savefig(filestring)\n"
   ]
  },
  {
   "cell_type": "code",
   "execution_count": null,
   "metadata": {},
   "outputs": [],
   "source": []
  },
  {
   "cell_type": "markdown",
   "metadata": {
    "collapsed": true
   },
   "source": [
    "# Da-cunha"
   ]
  },
  {
   "cell_type": "code",
   "execution_count": 10,
   "metadata": {},
   "outputs": [],
   "source": [
    "#Set parameters\n",
    "nodes=[10407]#note that this is the total number of addresses in the ieee dataset\n",
    "nodes1=[10407] #this is the number of nodes in the mfg graph\n",
    "marker_colors=['r', 'b', 'g','y', 'm','c','k','plum']\n",
    "markers=['s','D','8','v','*','^','<','+']\n"
   ]
  },
  {
   "cell_type": "code",
   "execution_count": 11,
   "metadata": {},
   "outputs": [
    {
     "name": "stdout",
     "output_type": "stream",
     "text": [
      "9.608917075045643e-05\n",
      "9.608917075045643e-05\n",
      "9.608917075045643e-05\n",
      "9.608917075045643e-05\n",
      "9.608917075045643e-05\n",
      "9.608917075045643e-05\n",
      "9.608917075045643e-05\n",
      "9.608917075045643e-05\n",
      "9.608917075045643e-05\n",
      "9.608917075045643e-05\n",
      "9.608917075045643e-05\n",
      "9.608917075045643e-05\n",
      "9.608917075045643e-05\n",
      "9.608917075045643e-05\n",
      "9.608917075045643e-05\n",
      "9.608917075045643e-05\n",
      "9.608917075045643e-05\n",
      "9.608917075045643e-05\n",
      "9.608917075045643e-05\n",
      "9.608917075045643e-05\n",
      "9.608917075045643e-05\n",
      "9.608917075045643e-05\n",
      "9.608917075045643e-05\n",
      "9.608917075045643e-05\n",
      "9.608917075045643e-05\n",
      "9.608917075045643e-05\n",
      "9.608917075045643e-05\n",
      "9.608917075045643e-05\n",
      "9.608917075045643e-05\n",
      "9.608917075045643e-05\n",
      "9.608917075045643e-05\n",
      "9.608917075045643e-05\n",
      "9.608917075045643e-05\n",
      "9.608917075045643e-05\n",
      "9.608917075045643e-05\n",
      "9.608917075045643e-05\n",
      "9.608917075045643e-05\n",
      "9.608917075045643e-05\n",
      "9.608917075045643e-05\n",
      "9.608917075045643e-05\n",
      "9.608917075045643e-05\n",
      "9.608917075045643e-05\n",
      "9.608917075045643e-05\n",
      "9.608917075045643e-05\n",
      "9.608917075045643e-05\n",
      "9.608917075045643e-05\n",
      "9.608917075045643e-05\n",
      "9.608917075045643e-05\n",
      "9.608917075045643e-05\n",
      "9.608917075045643e-05\n",
      "9.608917075045643e-05\n",
      "9.608917075045643e-05\n",
      "9.608917075045643e-05\n",
      "9.608917075045643e-05\n",
      "9.608917075045643e-05\n",
      "9.608917075045643e-05\n",
      "9.608917075045643e-05\n",
      "9.608917075045643e-05\n",
      "9.608917075045643e-05\n",
      "9.608917075045643e-05\n",
      "9.608917075045643e-05\n",
      "9.608917075045643e-05\n",
      "9.608917075045643e-05\n",
      "9.608917075045643e-05\n",
      "9.608917075045643e-05\n",
      "9.608917075045643e-05\n",
      "9.608917075045643e-05\n",
      "9.608917075045643e-05\n",
      "9.608917075045643e-05\n",
      "9.608917075045643e-05\n",
      "9.608917075045643e-05\n",
      "9.608917075045643e-05\n",
      "9.608917075045643e-05\n",
      "9.608917075045643e-05\n",
      "9.608917075045643e-05\n",
      "9.608917075045643e-05\n",
      "9.608917075045643e-05\n",
      "9.608917075045643e-05\n",
      "9.608917075045643e-05\n",
      "9.608917075045643e-05\n",
      "9.608917075045643e-05\n",
      "9.608917075045643e-05\n",
      "9.608917075045643e-05\n",
      "9.608917075045643e-05\n",
      "9.608917075045643e-05\n",
      "9.608917075045643e-05\n",
      "9.608917075045643e-05\n",
      "9.608917075045643e-05\n",
      "9.608917075045643e-05\n",
      "9.608917075045643e-05\n",
      "9.608917075045643e-05\n",
      "9.608917075045643e-05\n",
      "9.608917075045643e-05\n",
      "9.608917075045643e-05\n",
      "9.608917075045643e-05\n",
      "9.608917075045643e-05\n",
      "9.608917075045643e-05\n",
      "9.608917075045643e-05\n",
      "9.608917075045643e-05\n",
      "9.608917075045643e-05\n"
     ]
    },
    {
     "data": {
      "text/plain": [
       "<Figure size 432x288 with 0 Axes>"
      ]
     },
     "metadata": {},
     "output_type": "display_data"
    },
    {
     "data": {
      "image/png": "[encoded data removed]",
      "text/plain": [
       "<Figure size 432x288 with 2 Axes>"
      ]
     },
     "metadata": {
      "needs_background": "light"
     },
     "output_type": "display_data"
    }
   ],
   "source": [
    "# read in and plot from the files\n",
    "plt.clf()\n",
    "plt.rcParams['xtick.major.pad'] = 8\n",
    "plt.rcParams['ytick.major.pad'] = 8\n",
    "runs=100\n",
    "fig, ax1 = plt.subplots(figsize=(6,4))\n",
    "ax2 = ax1.twinx()\n",
    "#ax2.set_yscale(\"log\", nonposy='clip')\n",
    "\n",
    "for x in range(len(nodes)):\n",
    "    gcc_run=[]\n",
    "    sgcc_run=[]\n",
    "    p_run=[]\n",
    "    for r in range(0,runs):\n",
    "        filestring=\"da-cunha-matjaz/da-cunha/S_vals_ethereum_100comp_\"+str(nodes[x])+\"_dacunha_linkperc_no_count_exchange__\"\n",
    "        filestring+=str(r)+\".txt\"\n",
    "        filename=open(filestring)\n",
    "        p_vals=[]\n",
    "        gcc=[]\n",
    "        sgcc=[]\n",
    "        for line in filename.readlines():\n",
    "            if len(line.split())>1:\n",
    "                p,g,sg=line.split()[0:3]\n",
    "                g=(float(g))/(nodes1[x])\n",
    "                sg=float(sg)/nodes1[x]\n",
    "                p_vals.append(abs(float(p)))\n",
    "                gcc.append(g)\n",
    "                sgcc.append(sg)\n",
    "        #if k_inter_vals[x]==0:\n",
    "        #    gcc=[modules[x]*ll for ll in gcc]\n",
    "        print(gcc[-1])\n",
    "        p_run=p_vals\n",
    "        gcc_run.append(gcc)\n",
    "        sgcc_run.append(sgcc)\n",
    "        \n",
    "        '''plt.clf()\n",
    "        plt.plot(p_run[::1], gcc[::1], marker=markers[x], linestyle='-', color=marker_colors[r % 8], label=(\"\" ))\n",
    "        plt.xlabel(r\"$p$\", fontsize=36)\n",
    "        plt.xticks([x/5. for x in range(0,6)])\n",
    "        xx,locs=plt.xticks()\n",
    "        ll=xx\n",
    "        plt.xticks(xx,ll, fontsize=20)\n",
    "        plt.yticks(fontsize=20)\n",
    "        #plt.axis([0.,1.0,0,0.2])\n",
    "        plt.ylabel(r\"$P_\\infty$\", fontsize=36)\n",
    "        plt.legend( loc=\"best\", borderpad=0.3,numpoints=1, handletextpad=0, prop={'size':20})\n",
    "        plt.tight_layout()\n",
    "        #plt.show()\n",
    "        filestring=\"plot_ieee_ethereum%d.pdf\" % r\n",
    "        #plt.savefig(filestring)'''\n",
    "\n",
    "    gcc_avg=[np.mean([gcc_run[rr][gg] for rr in range(len(gcc_run))]) for gg in range(len(gcc_run[0]))]\n",
    "    gcc_std=[np.std([gcc_run[rr][gg] for rr in range(len(gcc_run))]) for gg in range(len(gcc_run[0]))]\n",
    "\n",
    "    sgcc_avg=[np.mean([sgcc_run[rr][gg] for rr in range(len(sgcc_run))]) for gg in range(len(sgcc_run[0]))]\n",
    "    sgcc_std=[np.std([sgcc_run[rr][gg] for rr in range(len(sgcc_run))]) for gg in range(len(sgcc_run[0]))]\n",
    "    sgcc_25=[abs(np.percentile([sgcc_run[rr][gg] for rr in range(len(sgcc_run))],25)-sgcc_avg[gg]) for gg in range(len(sgcc_run[0]))]\n",
    "    sgcc_75=[abs(np.percentile([sgcc_run[rr][gg] for rr in range(len(sgcc_run))],75)-sgcc_avg[gg]) for gg in range(len(sgcc_run[0]))]\n",
    "    #print(gcc_std)\n",
    "    #print len(p_run), len(gcc_avg)\n",
    "    #plt.plot(p_run[::2], gcc_avg[::2], marker=markers[x], linestyle='None', color=marker_colors[x], label=(r\"$z=$%s\" % (networks[x]-1) ))\n",
    "    ax1.plot(p_run[::2], gcc_avg[::2],  lw=4, linestyle='-', markersize=8, color=marker_colors[x], label=(\"\" ), marker=markers[x] )\n",
    "    errvals=[sgcc_25 [::3] , sgcc_75[::3]]\n",
    "    ax2.errorbar(p_run[::3], sgcc_avg[::3],  lw=2, yerr=errvals,  elinewidth=1, linestyle='-', color=marker_colors[x+1], label=(\"\"), marker=markers[x+1] )\n"
   ]
  },
  {
   "cell_type": "code",
   "execution_count": 12,
   "metadata": {},
   "outputs": [
    {
     "name": "stderr",
     "output_type": "stream",
     "text": [
      "/opt/anaconda3/lib/python3.7/site-packages/ipykernel_launcher.py:36: UserWarning: Matplotlib is currently using module://ipykernel.pylab.backend_inline, which is a non-GUI backend, so cannot show the figure.\n"
     ]
    }
   ],
   "source": [
    "ax1.set_xlabel(r\"$p$\", fontsize=36)\n",
    "xx=[x/2. for x in range(0,3)]\n",
    "ax1.set_xticks(xx)\n",
    "ax1.set_xticklabels(xx, fontdict={'fontsize': 30})\n",
    "yticks1=ax1.get_yticklabels()\n",
    "#ax1.tick_params(axis='y',labelsize=30)\n",
    "#plt.axis([0.,1.0,0,0.2])\n",
    "ax1.set_yticks([0,1])\n",
    "ax1.set_yticklabels([0,1], fontdict={'fontsize': 30})\n",
    "ax1.set_ylabel(r\"$S$\", fontsize=48)\n",
    "\n",
    "#ax2.tick_params(axis='y',labelsize=30)\n",
    "ax2.set_yticks([0,0.0005])\n",
    "ax2.set_yticklabels([0,r'$5\\cdot10^{-4}$'], fontdict={'fontsize': 24})\n",
    "ax2.set_ylabel(r\"$SG$\", fontsize=48)\n",
    "ax2.set_ylim(0,0.0005)\n",
    "                \n",
    "#ax1.legend( loc=\"best\", borderpad=0.3,numpoints=1, handletextpad=0, prop={'size':30})\n",
    "#ax1.text(0.3,0.3, \"Dark Web Network\", fontsize=18, fontweight='bold')\n",
    "\n",
    "ax1.spines['left'].set_color('red')\n",
    "ax1.yaxis.label.set_color('red')\n",
    "ax1.tick_params(axis='y', colors='red')\n",
    "\n",
    "ax2.yaxis.set_label_coords(1.03,0.5)\n",
    "\n",
    "ax2.spines['right'].set_color('blue')\n",
    "ax2.yaxis.label.set_color('blue')\n",
    "ax2.tick_params(axis='y', colors='blue')\n",
    "\n",
    "ax2.set_ylabel(r\"$SG$\", labelpad=-50, fontsize=48)\n",
    "fig.tight_layout()\n",
    "\n",
    "#plt.show()\n",
    "filestring=\"plot_dacunha_link_colored_%drun.pdf\" %runs\n",
    "fig.show()"
   ]
  },
  {
   "cell_type": "code",
   "execution_count": 13,
   "metadata": {},
   "outputs": [],
   "source": [
    "#save the plot\n",
    "fig.savefig(filestring)\n"
   ]
  },
  {
   "cell_type": "markdown",
   "metadata": {},
   "source": [
    "# All Together"
   ]
  },
  {
   "cell_type": "code",
   "execution_count": 16,
   "metadata": {},
   "outputs": [
    {
     "name": "stdout",
     "output_type": "stream",
     "text": [
      "Blockchain 0.9998992120652319\n",
      "Conspiracy 0.7648514851485149\n",
      "Dark Web 1.0\n"
     ]
    },
    {
     "name": "stderr",
     "output_type": "stream",
     "text": [
      "/opt/anaconda3/lib/python3.7/site-packages/ipykernel_launcher.py:91: UserWarning: Matplotlib is currently using module://ipykernel.pylab.backend_inline, which is a non-GUI backend, so cannot show the figure.\n"
     ]
    },
    {
     "data": {
      "text/plain": [
       "<Figure size 432x288 with 0 Axes>"
      ]
     },
     "metadata": {},
     "output_type": "display_data"
    },
    {
     "data": {
      "image/png": "[encoded data removed]",
      "text/plain": [
       "<Figure size 432x288 with 1 Axes>"
      ]
     },
     "metadata": {
      "needs_background": "light"
     },
     "output_type": "display_data"
    }
   ],
   "source": [
    "nodes=[2721080,404,10407]\n",
    "nodes1=[2291941,404,10407]\n",
    "filestring0=\"ethereum/results/ieee-infocom2018/S_vals_ethereum_100comp_\"+str(nodes[0])+\"_random_linkperc__\"\n",
    "filestring1=\"da-cunha-matjaz/S_vals_ethereum_100comp_\"+str(nodes[1])+\"_matjaz_linkperc_no_count_exchange__\"\n",
    "filestring2=\"da-cunha-matjaz/da-cunha/S_vals_ethereum_100comp_\"+str(nodes[2])+\"_dacunha_linkperc_no_count_exchange__\"\n",
    "filestrings=[filestring0,filestring1,filestring2]\n",
    "labels=['Blockchain','Conspiracy','Dark Web']\n",
    "marker_colors=['r', 'b', 'g','y', 'm','c','k','plum']\n",
    "markers=['s','D','8','v','*','^','<','+']\n",
    "plt.clf()\n",
    "plt.rcParams['xtick.major.pad'] = 8\n",
    "plt.rcParams['ytick.major.pad'] = 8\n",
    "runs=100\n",
    "fig, ax1 = plt.subplots()\n",
    "\n",
    "for x in range(len(nodes)):\n",
    "    gcc_run=[]\n",
    "    sgcc_run=[]\n",
    "    p_run=[]\n",
    "    for r in range(0,runs):\n",
    "        filestring=filestrings[x]\n",
    "        filestring+=str(r)+\".txt\"\n",
    "        filename=open(filestring)\n",
    "        p_vals=[]\n",
    "        gcc=[]\n",
    "        sgcc=[]\n",
    "        for line in filename.readlines():\n",
    "            if len(line.split())>1:\n",
    "                p,g,sg=line.split()[0:3]\n",
    "                g=(float(g))/(nodes1[x])\n",
    "                sg=float(sg)/nodes1[x]\n",
    "                p_vals.append(abs(float(p)))\n",
    "                gcc.append(g)\n",
    "                sgcc.append(sg)\n",
    "        #if k_inter_vals[x]==0:\n",
    "        #    gcc=[modules[x]*ll for ll in gcc]\n",
    "        #print(gcc[-1])\n",
    "        p_run=p_vals\n",
    "        gcc_run.append(gcc)\n",
    "        sgcc_run.append(sgcc)\n",
    "        \n",
    "        '''plt.clf()\n",
    "        plt.plot(p_run[::1], gcc[::1], marker=markers[x], linestyle='-', color=marker_colors[r % 8], label=(\"\" ))\n",
    "        plt.xlabel(r\"$p$\", fontsize=36)\n",
    "        plt.xticks([x/5. for x in range(0,6)])\n",
    "        xx,locs=plt.xticks()\n",
    "        ll=xx\n",
    "        plt.xticks(xx,ll, fontsize=20)\n",
    "        plt.yticks(fontsize=20)\n",
    "        #plt.axis([0.,1.0,0,0.2])\n",
    "        plt.ylabel(r\"$P_\\infty$\", fontsize=36)\n",
    "        plt.legend( loc=\"best\", borderpad=0.3,numpoints=1, handletextpad=0, prop={'size':20})\n",
    "        plt.tight_layout()\n",
    "        #plt.show()\n",
    "        filestring=\"plot_ieee_ethereum%d.pdf\" % r\n",
    "        #plt.savefig(filestring)'''\n",
    "\n",
    "    gcc_avg=[np.mean([gcc_run[rr][gg] for rr in range(len(gcc_run))]) for gg in range(len(gcc_run[0]))]\n",
    "    gcc_std=[np.std([gcc_run[rr][gg] for rr in range(len(gcc_run))]) for gg in range(len(gcc_run[0]))]\n",
    "\n",
    "    \n",
    "    #print(gcc_std)\n",
    "    #print len(p_run), len(gcc_avg)\n",
    "    #plt.plot(p_run[::2], gcc_avg[::2], marker=markers[x], linestyle='None', color=marker_colors[x], label=(r\"$z=$%s\" % (networks[x]-1) ))\n",
    "    ax1.plot(p_run[::4], gcc_avg[::4],  linestyle='-', color=marker_colors[x], label=labels[x], marker=markers[x] )\n",
    "    print(labels[x],gcc_avg[0])\n",
    "ax1.set_xlabel(r\"$p$\", fontsize=36)\n",
    "xx=[x/1. for x in range(0,2)]\n",
    "ax1.set_xticks(xx)\n",
    "ax1.set_xticklabels(xx, fontdict={'fontsize': 30})\n",
    "yticks1=ax1.get_yticklabels()\n",
    "#ax1.tick_params(axis='y',labelsize=30)\n",
    "#plt.axis([0.,1.0,0,0.2])\n",
    "ax1.set_yticks([0,1])\n",
    "ax1.set_yticklabels([0,1], fontdict={'fontsize': 30})\n",
    "ax1.set_ylabel(r\"$S$\", fontsize=48)\n",
    "\n",
    "\n",
    "                \n",
    "ax1.legend( loc=(0.37,0), borderpad=0.3,numpoints=1, handletextpad=0, frameon=False, \n",
    "           prop={'size':24})\n",
    "\n",
    "\n",
    "\n",
    "fig.tight_layout()\n",
    "\n",
    "#plt.show()\n",
    "filestring=\"plot_all_together_link_colored_%drun-stretched.pdf\" %runs\n",
    "fig.savefig(filestring)\n",
    "\n",
    "fig.show()"
   ]
  },
  {
   "cell_type": "code",
   "execution_count": null,
   "metadata": {},
   "outputs": [],
   "source": []
  },
  {
   "cell_type": "markdown",
   "metadata": {
    "collapsed": true
   },
   "source": [
    "# Shuffle Compared"
   ]
  },
  {
   "cell_type": "code",
   "execution_count": 9,
   "metadata": {},
   "outputs": [
    {
     "ename": "FileNotFoundError",
     "evalue": "[Errno 2] No such file or directory: 'S_vals_ethereum_100comp_2721080_allexchanges_linkperc_no_count_exchange__0.txt'",
     "output_type": "error",
     "traceback": [
      "\u001b[0;31m---------------------------------------------------------------------------\u001b[0m",
      "\u001b[0;31mFileNotFoundError\u001b[0m                         Traceback (most recent call last)",
      "\u001b[0;32m<ipython-input-9-fb0c548ef5dd>\u001b[0m in \u001b[0;36m<module>\u001b[0;34m\u001b[0m\n\u001b[1;32m     28\u001b[0m         \u001b[0mfilestring\u001b[0m\u001b[0;34m=\u001b[0m\u001b[0;34m\"S_vals_ethereum_100comp_\"\u001b[0m\u001b[0;34m+\u001b[0m\u001b[0mstr\u001b[0m\u001b[0;34m(\u001b[0m\u001b[0mnodes\u001b[0m\u001b[0;34m[\u001b[0m\u001b[0;36m0\u001b[0m\u001b[0;34m]\u001b[0m\u001b[0;34m)\u001b[0m\u001b[0;34m+\u001b[0m\u001b[0;34m\"_\"\u001b[0m\u001b[0;34m+\u001b[0m\u001b[0mexchanges\u001b[0m\u001b[0;34m[\u001b[0m\u001b[0mx\u001b[0m\u001b[0;34m]\u001b[0m\u001b[0;34m+\u001b[0m\u001b[0;34m\"_linkperc_no_count_exchange__\"\u001b[0m\u001b[0;34m\u001b[0m\u001b[0;34m\u001b[0m\u001b[0m\n\u001b[1;32m     29\u001b[0m         \u001b[0mfilestring\u001b[0m\u001b[0;34m+=\u001b[0m\u001b[0mstr\u001b[0m\u001b[0;34m(\u001b[0m\u001b[0mr\u001b[0m\u001b[0;34m)\u001b[0m\u001b[0;34m+\u001b[0m\u001b[0;34m\".txt\"\u001b[0m\u001b[0;34m\u001b[0m\u001b[0;34m\u001b[0m\u001b[0m\n\u001b[0;32m---> 30\u001b[0;31m         \u001b[0mfilename\u001b[0m\u001b[0;34m=\u001b[0m\u001b[0mopen\u001b[0m\u001b[0;34m(\u001b[0m\u001b[0mfilestring\u001b[0m\u001b[0;34m)\u001b[0m\u001b[0;34m\u001b[0m\u001b[0;34m\u001b[0m\u001b[0m\n\u001b[0m\u001b[1;32m     31\u001b[0m         \u001b[0mp_vals\u001b[0m\u001b[0;34m=\u001b[0m\u001b[0;34m[\u001b[0m\u001b[0;34m]\u001b[0m\u001b[0;34m\u001b[0m\u001b[0;34m\u001b[0m\u001b[0m\n\u001b[1;32m     32\u001b[0m         \u001b[0mgcc\u001b[0m\u001b[0;34m=\u001b[0m\u001b[0;34m[\u001b[0m\u001b[0;34m]\u001b[0m\u001b[0;34m\u001b[0m\u001b[0;34m\u001b[0m\u001b[0m\n",
      "\u001b[0;31mFileNotFoundError\u001b[0m: [Errno 2] No such file or directory: 'S_vals_ethereum_100comp_2721080_allexchanges_linkperc_no_count_exchange__0.txt'"
     ]
    },
    {
     "data": {
      "text/plain": [
       "<Figure size 640x480 with 0 Axes>"
      ]
     },
     "metadata": {},
     "output_type": "display_data"
    },
    {
     "data": {
      "image/png": "[encoded data removed]",
      "text/plain": [
       "<Figure size 640x480 with 1 Axes>"
      ]
     },
     "metadata": {},
     "output_type": "display_data"
    }
   ],
   "source": [
    "# read in and plot from the files\n",
    "\n",
    "#Import relevant packages\n",
    "import matplotlib.pyplot as plt\n",
    "import math\n",
    "import numpy as np\n",
    "plt.style.use('classic')\n",
    "\n",
    "#Set parameters\n",
    "nodes=[2721080]#note that this is the total number of addresses in the ieee dataset\n",
    "nodes1=[2291941] #this is the number of nodes in the mfg graph\n",
    "marker_colors=['r', 'b', 'g','y', 'm','c','k','plum']\n",
    "markers=['s','D','8','v','*','^','<','+']\n",
    "\n",
    "plt.clf()\n",
    "plt.rcParams['xtick.major.pad'] = 8\n",
    "plt.rcParams['ytick.major.pad'] = 8\n",
    "runs=2\n",
    "fig, ax1 = plt.subplots()\n",
    "#ax2.set_yscale(\"log\", nonposy='clip')\n",
    "exchanges=[\"allexchanges\"]\n",
    "\n",
    "for x in range(len(nodes)):\n",
    "    gcc_runs=[]\n",
    "    gcc_shuffle_runs=[]\n",
    "    p_run=[]\n",
    "    for r in range(0,runs):\n",
    "        filestring=\"S_vals_ethereum_100comp_\"+str(nodes[0])+\"_\"+exchanges[x]+\"_linkperc_no_count_exchange__\"\n",
    "        filestring+=str(r)+\".txt\"\n",
    "        filename=open(filestring)\n",
    "        p_vals=[]\n",
    "        gcc=[]\n",
    "        sgcc=[]\n",
    "        for line in filename.readlines():\n",
    "            if len(line.split())>1:\n",
    "                p,g,sg=line.split()[0:3]\n",
    "                g=(float(g))/(nodes1[x])\n",
    "                sg=float(sg)/nodes1[x]\n",
    "                p_vals.append(abs(float(p)))\n",
    "                gcc.append(g)\n",
    "                sgcc.append(sg)\n",
    "        #if k_inter_vals[x]==0:\n",
    "        #    gcc=[modules[x]*ll for ll in gcc]\n",
    "        p_run=p_vals\n",
    "        gcc_runs.append(gcc)\n",
    "        filename.close()\n",
    "        \n",
    "        filestring1=\"shuffle-degree/S_vals_ethereum_100comp_\"+str(nodes[0])+\"_\"+exchanges[x]+\"_linkperc_no_count_exchange_shuffle__\"\n",
    "        filestring1+=str(r)+\".txt\"\n",
    "        filename1=open(filestring1)\n",
    "        p_vals=[]\n",
    "        gcc_shuffle=[]\n",
    "        for line in filename1.readlines():\n",
    "            if len(line.split())>1:\n",
    "                p,g,sg=line.split()[0:3]\n",
    "                g=(float(g))/(nodes1[x])\n",
    "                gcc_shuffle.append(g)\n",
    "                #sgcc.append(sg)\n",
    "        filename1.close()\n",
    "        #if k_inter_vals[x]==0:\n",
    "        #    gcc=[modules[x]*ll for ll in gcc]\n",
    "        \n",
    "        gcc_shuffle_runs.append(gcc_shuffle)\n",
    "        '''plt.clf()\n",
    "        plt.plot(p_run[::1], gcc[::1], marker=markers[x], linestyle='-', color=marker_colors[r % 8], label=(\"\" ))\n",
    "        plt.xlabel(r\"$p$\", fontsize=36)\n",
    "        plt.xticks([x/5. for x in range(0,6)])\n",
    "        xx,locs=plt.xticks()\n",
    "        ll=xx\n",
    "        plt.xticks(xx,ll, fontsize=20)\n",
    "        plt.yticks(fontsize=20)\n",
    "        #plt.axis([0.,1.0,0,0.2])\n",
    "        plt.ylabel(r\"$P_\\infty$\", fontsize=36)\n",
    "        plt.legend( loc=\"best\", borderpad=0.3,numpoints=1, handletextpad=0, prop={'size':20})\n",
    "        plt.tight_layout()\n",
    "        #plt.show()\n",
    "        filestring=\"plot_ieee_ethereum%d.pdf\" % r\n",
    "        #plt.savefig(filestring)'''\n",
    "\n",
    "    gcc_avg=[np.mean([gcc_runs[rr][gg] for rr in range(len(gcc_runs))]) for gg in range(len(gcc_runs[0]))]\n",
    "    gcc_std=[np.std([gcc_runs[rr][gg] for rr in range(len(gcc_runs))]) for gg in range(len(gcc_runs[0]))]\n",
    "\n",
    "    gcc_shuffle_avg=[np.mean([gcc_shuffle_runs[rr][gg] for rr in range(len(gcc_shuffle_runs))]) for gg in range(len(gcc_shuffle_runs[0]))]\n",
    "    gcc_shuffle_std=[np.std([gcc_shuffle_runs[rr][gg] for rr in range(len(gcc_shuffle_runs))]) for gg in range(len(gcc_shuffle_runs[0]))]\n",
    "    gcc_shuffle_25=[abs(np.percentile([gcc_shuffle_runs[rr][gg] for rr in range(len(gcc_shuffle_runs))],25)-gcc_shuffle_avg[gg]) for gg in range(len(gcc_shuffle_runs[0]))]\n",
    "    gcc_shuffle_75=[abs(np.percentile([gcc_shuffle_runs[rr][gg] for rr in range(len(gcc_shuffle_runs))],75)-gcc_shuffle_avg[gg]) for gg in range(len(gcc_shuffle_runs[0]))]\n",
    "    #print(len(gcc_shuffle_25), len(gcc_shuffle_avg), len(gcc_avg))\n",
    "    #print(gcc_std)\n",
    "    #print len(p_run), len(gcc_avg)\n",
    "    #plt.plot(p_run[::2], gcc_avg[::2], marker=markers[x], linestyle='None', color=marker_colors[x], label=(r\"$z=$%s\" % (networks[x]-1) ))\n",
    "    ax1.plot(p_run[::3], gcc_avg[::3],  linestyle='-', color=marker_colors[x], label=(\"Original\" ), marker=markers[x] )\n",
    "    errvals=[gcc_shuffle_25[::3], gcc_shuffle_75[::3]]\n",
    "    #print(errvals)\n",
    "    ax1.errorbar(p_run[::3], gcc_shuffle_avg[::3], yerr=errvals,  linestyle='-', color=marker_colors[x+1], label=(\"Shuffled\"), marker=markers[x+1] )\n",
    "    #print(gcc_shuffle_avg[100], gcc_avg[100], errvals[-1])\n",
    "ax1.set_xlabel(r\"$p$\", fontsize=36)\n",
    "xx=[0,0.5,1]\n",
    "ax1.set_xticks(xx)\n",
    "ax1.set_xticklabels(xx, fontdict={'fontsize': 30})\n",
    "yticks1=ax1.get_yticklabels()\n",
    "#ax1.tick_params(axis='y',labelsize=30)\n",
    "#plt.axis([0.,1.0,0,0.2])\n",
    "ax1.set_yticks([0,0.5,1])\n",
    "ax1.set_yticklabels([0,0.5,1], fontdict={'fontsize': 30})\n",
    "ax1.set_ylabel(r\"$S$\", fontsize=48)\n",
    "\n",
    "\n",
    "ax1.legend( loc=\"best\", borderpad=0.3,numpoints=1, frameon=False, handletextpad=0, prop={'size':24})\n",
    "\n",
    "\n",
    "\n",
    "\n",
    "fig.tight_layout()\n",
    "\n",
    "#plt.show()\n",
    "filestring=\"plot_ieee_ethereum_shuffled_2run.pdf\"\n",
    "fig.show()"
   ]
  },
  {
   "cell_type": "code",
   "execution_count": null,
   "metadata": {},
   "outputs": [],
   "source": []
  },
  {
   "cell_type": "code",
   "execution_count": null,
   "metadata": {},
   "outputs": [],
   "source": []
  }
 ],
 "metadata": {
  "kernelspec": {
   "display_name": "Python 3",
   "language": "python",
   "name": "python3"
  },
  "language_info": {
   "codemirror_mode": {
    "name": "ipython",
    "version": 3
   },
   "file_extension": ".py",
   "mimetype": "text/x-python",
   "name": "python",
   "nbconvert_exporter": "python",
   "pygments_lexer": "ipython3",
   "version": "3.7.4"
  }
 },
 "nbformat": 4,
 "nbformat_minor": 2
}
